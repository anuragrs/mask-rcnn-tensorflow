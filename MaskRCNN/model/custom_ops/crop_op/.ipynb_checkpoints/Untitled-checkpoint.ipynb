{
 "cells": [
  {
   "cell_type": "code",
   "execution_count": 16,
   "metadata": {},
   "outputs": [],
   "source": [
    "import tensorflow as tf\n",
    "import numpy as np\n",
    "import time"
   ]
  },
  {
   "cell_type": "code",
   "execution_count": 17,
   "metadata": {},
   "outputs": [],
   "source": [
    "op_file = '/workspace/shared_workspace/tensorpack/mask-rcnn-tensorflow/custom_ops/crop_op/crop_op.so'"
   ]
  },
  {
   "cell_type": "code",
   "execution_count": 39,
   "metadata": {},
   "outputs": [],
   "source": [
    "def crop_numpy(patch_centers, N, data):\n",
    "    \"\"\"\n",
    "    Slice patches of size N centered at patch_centers in data.\n",
    "    Assumes data has shape (1, M, M, M, channels)\n",
    "    or (1, M, M, channels)\n",
    "    \"\"\"\n",
    "    coords0 = np.floor(patch_centers - N/2.0)  # bottom left corner\n",
    "    coords1 = np.floor(patch_centers + N/2.0)  # top right corner\n",
    "    dim = patch_centers.shape[1]\n",
    "    image_size = data.shape[1]\n",
    "    coords0 = np.clip(coords0, 0, image_size).astype(int)\n",
    "    coords1 = np.clip(coords1, 0, image_size).astype(int)\n",
    "    crops = np.zeros((coords0.shape[0],) + (N,) * dim + (data.shape[-1],))\n",
    "    crops_labels = np.zeros_like(crops)\n",
    "    for j in range(len(coords0)):\n",
    "        padding = []\n",
    "        for d in range(dim):\n",
    "            pad = np.maximum(N - (coords1[j, d] - coords0[j, d]), 0)\n",
    "            if coords0[j, d] == 0.0:\n",
    "                padding.append((pad, 0))\n",
    "            else:\n",
    "                padding.append((0, pad))\n",
    "        padding.append((0, 0))\n",
    "        if dim == 2:\n",
    "            crops[j] = np.pad(data[0,\n",
    "                                   coords0[j, 0]:coords1[j, 0],\n",
    "                                   coords0[j, 1]:coords1[j, 1],\n",
    "                                   :],\n",
    "                              padding, 'constant')\n",
    "        else:  # dim == 3\n",
    "            crops[j] = np.pad(data[0,\n",
    "                                   coords0[j, 0]:coords1[j, 0],\n",
    "                                   coords0[j, 1]:coords1[j, 1],\n",
    "                                   coords0[j, 2]:coords1[j, 2],\n",
    "                                   :],\n",
    "                              padding, 'constant')\n",
    "    return crops"
   ]
  },
  {
   "cell_type": "code",
   "execution_count": 40,
   "metadata": {},
   "outputs": [],
   "source": [
    "crop_module = tf.load_op_library(op_file)"
   ]
  },
  {
   "cell_type": "code",
   "execution_count": 41,
   "metadata": {},
   "outputs": [],
   "source": [
    "N = 256\n",
    "CROP_SIZE = 64\n",
    "image_np = (np.random.rand(N, N, N, 1) * N).astype(np.float32)\n",
    "crop_centers_np = np.random.randint(50, high=100, size=(100, 3))\n",
    "image = tf.constant(image_np, dtype=tf.float32)\n",
    "crop_centers = tf.constant(crop_centers_np, dtype=tf.int32)"
   ]
  },
  {
   "cell_type": "code",
   "execution_count": 42,
   "metadata": {},
   "outputs": [],
   "source": [
    "crops = crop_module.crop(image, crop_centers, CROP_SIZE)"
   ]
  },
  {
   "cell_type": "code",
   "execution_count": null,
   "metadata": {},
   "outputs": [
    {
     "name": "stdout",
     "output_type": "stream",
     "text": [
      "TF duration = 45.868639 s\n"
     ]
    }
   ],
   "source": [
    "duration = 0\n",
    "for i in range(MAX_STEPS*1000):\n",
    "    start = time.time()\n",
    "    tf_result = crop_module.crop(image, crop_centers, CROP_SIZE)\n",
    "    end = time.time()\n",
    "    duration += end - start\n",
    "print(\"TF duration = %f s\" % (duration / (MAX_STEPS*1000))\n",
    "duration = 0\n",
    "for i in range(MAX_STEPS):\n",
    "    start = time.time()\n",
    "    np_result = crop_numpy(crop_centers_np, CROP_SIZE, image_np[np.newaxis, ...])\n",
    "    end = time.time()\n",
    "    duration += end - start\n",
    "print(\"NP duration = %f s\" % (duration / MAX_STEPS))"
   ]
  },
  {
   "cell_type": "code",
   "execution_count": 47,
   "metadata": {},
   "outputs": [
    {
     "data": {
      "text/plain": [
       "(1, 256, 256, 256, 1)"
      ]
     },
     "execution_count": 47,
     "metadata": {},
     "output_type": "execute_result"
    }
   ],
   "source": [
    "image_np[np.newaxis, ...].shape"
   ]
  },
  {
   "cell_type": "code",
   "execution_count": null,
   "metadata": {},
   "outputs": [],
   "source": []
  }
 ],
 "metadata": {
  "kernelspec": {
   "display_name": "Python 3",
   "language": "python",
   "name": "python3"
  },
  "language_info": {
   "codemirror_mode": {
    "name": "ipython",
    "version": 3
   },
   "file_extension": ".py",
   "mimetype": "text/x-python",
   "name": "python",
   "nbconvert_exporter": "python",
   "pygments_lexer": "ipython3",
   "version": "3.6.9"
  }
 },
 "nbformat": 4,
 "nbformat_minor": 4
}
